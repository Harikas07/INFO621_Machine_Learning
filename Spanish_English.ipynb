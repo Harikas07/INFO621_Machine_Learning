{
 "cells": [
  {
   "cell_type": "code",
   "execution_count": 8,
   "id": "e4a90d7e-6f05-4d01-ba9d-8d621d3156b8",
   "metadata": {},
   "outputs": [
    {
     "name": "stdin",
     "output_type": "stream",
     "text": [
      "Enter a URL to translate:  https://elpais.com/america/\n"
     ]
    },
    {
     "name": "stdout",
     "output_type": "stream",
     "text": [
      "Saving to: /Users/vaantech/Downloads/translated_page_en.html\n",
      "Translation complete! Translated HTML saved as: translated_page_en.html\n"
     ]
    }
   ],
   "source": [
    "from bs4 import BeautifulSoup\n",
    "from transformers import MarianMTModel, MarianTokenizer\n",
    "import os\n",
    "\n",
    "# Load model and tokenizer\n",
    "model_name = \"Helsinki-NLP/opus-mt-es-en\"\n",
    "tokenizer = MarianTokenizer.from_pretrained(model_name)\n",
    "model = MarianMTModel.from_pretrained(model_name)\n",
    "\n",
    "def translate_text(text):\n",
    "    if not text or not text.strip():\n",
    "        return text\n",
    "    inputs = tokenizer(text, return_tensors=\"pt\", padding=True)\n",
    "    translated = model.generate(**inputs)\n",
    "    return tokenizer.decode(translated[0], skip_special_tokens=True)\n",
    "\n",
    "def translate_html(html):\n",
    "    soup = BeautifulSoup(html, \"html.parser\")\n",
    "    for element in soup.find_all(string=True):\n",
    "        if element.parent.name in [\"script\", \"style\"]:\n",
    "            continue\n",
    "        new_text = translate_text(element)\n",
    "        element.replace_with(new_text)\n",
    "    return str(soup)\n",
    "\n",
    "if __name__ == \"__main__\":\n",
    "    # Prompt for URL\n",
    "    url = input(\"Enter a URL to translate: \")\n",
    "\n",
    "    # Download HTML from the URL\n",
    "    response = requests.get(url)\n",
    "    response.encoding = 'utf-8'\n",
    "    html_content = response.text\n",
    "\n",
    "    # Translate the HTML content\n",
    "    english_html = translate_html(html_content)\n",
    "\n",
    "    # Save translated HTML to a new file\n",
    "    output_path = \"translated_page_en.html\"\n",
    "    with open(output_path, \"w\", encoding=\"utf-8\") as f:\n",
    "        f.write(english_html)\n",
    "    print(f\"Saving to: {os.path.abspath(output_path)}\")\n",
    "\n",
    "    print(f\"Translation complete! Translated HTML saved as: {output_path}\")\n"
   ]
  },
  {
   "cell_type": "code",
   "execution_count": null,
   "id": "a39d3533-ade1-4bd3-b19f-5350a39d018f",
   "metadata": {},
   "outputs": [],
   "source": []
  }
 ],
 "metadata": {
  "kernelspec": {
   "display_name": "Python 3 (ipykernel)",
   "language": "python",
   "name": "python3"
  },
  "language_info": {
   "codemirror_mode": {
    "name": "ipython",
    "version": 3
   },
   "file_extension": ".py",
   "mimetype": "text/x-python",
   "name": "python",
   "nbconvert_exporter": "python",
   "pygments_lexer": "ipython3",
   "version": "3.12.7"
  }
 },
 "nbformat": 4,
 "nbformat_minor": 5
}
